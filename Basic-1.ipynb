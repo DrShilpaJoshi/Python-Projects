{
 "cells": [
  {
   "cell_type": "code",
   "execution_count": 1,
   "metadata": {},
   "outputs": [
    {
     "data": {
      "text/plain": [
       "33"
      ]
     },
     "execution_count": 1,
     "metadata": {},
     "output_type": "execute_result"
    }
   ],
   "source": [
    "a=10\n",
    "b=23\n",
    "a+b"
   ]
  },
  {
   "cell_type": "code",
   "execution_count": 8,
   "metadata": {},
   "outputs": [
    {
     "name": "stdout",
     "output_type": "stream",
     "text": [
      "34\n",
      "5\n",
      "Value of d 10\n",
      "Value of b=\n",
      " 20\n",
      "20 34\n",
      "25\n",
      "100\n"
     ]
    }
   ],
   "source": [
    "# Assign The vAriable\n",
    "a=10\n",
    "b=20\n",
    "a=5;d=10\n",
    "c=34\n",
    "x = y= z=\"Chill\"\n",
    "    \n",
    "#Print the output\n",
    "print(c)\n",
    "print(a)\n",
    "print(\"Value of d\",d)\n",
    "print(\"Value of b=\\n\",b)\n",
    "print(b,c)\n",
    "print(a+b)\n",
    "print(a*b)"
   ]
  },
  {
   "cell_type": "code",
   "execution_count": 10,
   "metadata": {},
   "outputs": [
    {
     "name": "stdout",
     "output_type": "stream",
     "text": [
      "0.3333333333333333\n",
      "0\n",
      "2.3333333333333335\n",
      "0.33\n"
     ]
    }
   ],
   "source": [
    "# Division \n",
    "a=1\n",
    "b=3;print(a/b)\n",
    "\n",
    "print(a//b)# floored division\n",
    "print(7/3)\n",
    "print(round(1/3,2))"
   ]
  },
  {
   "cell_type": "code",
   "execution_count": 14,
   "metadata": {},
   "outputs": [
    {
     "name": "stdout",
     "output_type": "stream",
     "text": [
      "<class 'float'>\n",
      "8.2\n",
      "53.2\n",
      "<class 'str'>\n"
     ]
    }
   ],
   "source": [
    "a=5\n",
    "b=3.2\n",
    "print(type(b))\n",
    "print(a+b)\n",
    "a=\"5\"\n",
    "\n",
    "b=\"3.2\"\n",
    "print(a+b)\n",
    "print(type(b))"
   ]
  },
  {
   "cell_type": "code",
   "execution_count": 3,
   "metadata": {},
   "outputs": [
    {
     "name": "stdout",
     "output_type": "stream",
     "text": [
      "Enter your Name:shilu\n",
      "Hi How Are You shilu\n",
      "Whats your age?\n"
     ]
    }
   ],
   "source": [
    "#User Input\n",
    "\n",
    "name=input(\"Enter your Name:\")\n",
    "print(\"Hi How Are You\",name)\n",
    "print(\"Whats your age?\")\n"
   ]
  },
  {
   "cell_type": "code",
   "execution_count": 8,
   "metadata": {},
   "outputs": [
    {
     "name": "stdout",
     "output_type": "stream",
     "text": [
      " x is grater than y\n",
      "Finish\n"
     ]
    }
   ],
   "source": [
    "#if-else\n",
    "x=7\n",
    "y=6\n",
    "if x<y:\n",
    "    \n",
    "    print(\"Start Encoding\")\n",
    "    print(\"x is less than y\")\n",
    "\n",
    "elif x>y:\n",
    "    print(\" x is grater than y\")\n",
    "else:\n",
    "\n",
    "    print(\"x and y are equal\")\n",
    "\n",
    "print(\"Finish\")"
   ]
  },
  {
   "cell_type": "code",
   "execution_count": 11,
   "metadata": {},
   "outputs": [
    {
     "name": "stdout",
     "output_type": "stream",
     "text": [
      "x is grater than y\n",
      "done\n"
     ]
    }
   ],
   "source": [
    "#Nested ifelse\n",
    "if x==y:\n",
    "    print(\" x and y are equal\")\n",
    "    \n",
    "else:\n",
    "    if x < y:\n",
    "    \n",
    "    \n",
    "        print(\"x is less than y\")\n",
    "        \n",
    "    else:\n",
    "            print(\"x is grater than y\")\n",
    "            \n",
    "print(\"done\")\n",
    "    \n",
    "    "
   ]
  },
  {
   "cell_type": "code",
   "execution_count": 12,
   "metadata": {},
   "outputs": [],
   "source": [
    "# Multiple conditions at a time\n",
    "x=5;b=6\n",
    "if(x>5 and b<6):\n",
    "    print(\"x is a single digit number\")\n",
    "    #nothing will be dispalyed"
   ]
  },
  {
   "cell_type": "code",
   "execution_count": 13,
   "metadata": {},
   "outputs": [
    {
     "name": "stdout",
     "output_type": "stream",
     "text": [
      "x is a single digit number\n"
     ]
    }
   ],
   "source": [
    "# Multiple Logical operators at a time\n",
    "x=5;b=6\n",
    "if(x>5 and b<6) or x!=y:\n",
    "    print(\"x is a single digit number\")"
   ]
  },
  {
   "cell_type": "code",
   "execution_count": 5,
   "metadata": {},
   "outputs": [
    {
     "name": "stdout",
     "output_type": "stream",
     "text": [
      "enter a number-12.5\n",
      "value is = 12.5\n"
     ]
    },
    {
     "data": {
      "text/plain": [
       "156.25"
      ]
     },
     "execution_count": 5,
     "metadata": {},
     "output_type": "execute_result"
    }
   ],
   "source": [
    "#User defined functions\n",
    "def square(a):\n",
    "\n",
    "    print(\"value is =\",a)\n",
    "    return a*a\n",
    "\n",
    "#square (10)\n",
    "value=float(input(\"enter a number-\"))\n",
    "square (value)\n",
    "\n",
    "    \n"
   ]
  },
  {
   "cell_type": "code",
   "execution_count": 6,
   "metadata": {},
   "outputs": [
    {
     "name": "stdout",
     "output_type": "stream",
     "text": [
      "Hello Shilpa\n"
     ]
    }
   ],
   "source": [
    "# Non parametarized functions\n",
    "def hi():\n",
    "    print(\"Hello Shilpa\")\n",
    "hi()\n",
    "# we can call any where"
   ]
  },
  {
   "cell_type": "code",
   "execution_count": 7,
   "metadata": {},
   "outputs": [
    {
     "name": "stdout",
     "output_type": "stream",
     "text": [
      "Hello Shilpa\n"
     ]
    }
   ],
   "source": [
    "hi()"
   ]
  },
  {
   "cell_type": "code",
   "execution_count": 9,
   "metadata": {},
   "outputs": [
    {
     "name": "stdout",
     "output_type": "stream",
     "text": [
      "0\n",
      "1\n",
      "2\n",
      "3\n",
      "4\n",
      " count exceeded 5\n"
     ]
    }
   ],
   "source": [
    "# Conditional loop --while also gives else which is unique\n",
    "count=0\n",
    "while(count<5):\n",
    "    print(count)\n",
    "    count=count+1\n",
    "else:\n",
    "    print(\" count exceeded\",count)\n",
    "    "
   ]
  },
  {
   "cell_type": "code",
   "execution_count": 1,
   "metadata": {},
   "outputs": [
    {
     "name": "stdout",
     "output_type": "stream",
     "text": [
      "100\n",
      "99\n",
      "98\n",
      "97\n",
      "96\n",
      "95\n",
      "94\n",
      "93\n",
      "92\n",
      "91\n",
      "90\n",
      "89\n",
      "88\n",
      "87\n",
      "86\n",
      "85\n",
      "84\n",
      "83\n",
      "82\n",
      "81\n",
      "80\n",
      "79\n",
      "78\n",
      "77\n",
      "76\n",
      "75\n",
      "74\n",
      "73\n",
      "72\n",
      "71\n",
      "70\n"
     ]
    }
   ],
   "source": [
    "count=100\n",
    "\n",
    "while(count>=70):\n",
    "    print(count)\n",
    "    count=count-1"
   ]
  },
  {
   "cell_type": "code",
   "execution_count": 3,
   "metadata": {},
   "outputs": [
    {
     "name": "stdout",
     "output_type": "stream",
     "text": [
      "100  is an even number\n",
      "99 is an odd number\n",
      "98  is an even number\n",
      "97 is an odd number\n",
      "96  is an even number\n",
      "95 is an odd number\n",
      "94  is an even number\n",
      "93 is an odd number\n",
      "92  is an even number\n",
      "91 is an odd number\n",
      "90  is an even number\n",
      "89 is an odd number\n",
      "88  is an even number\n",
      "87 is an odd number\n",
      "86  is an even number\n",
      "85 is an odd number\n",
      "84  is an even number\n",
      "83 is an odd number\n",
      "82  is an even number\n",
      "81 is an odd number\n",
      "80  is an even number\n",
      "79 is an odd number\n",
      "78  is an even number\n",
      "77 is an odd number\n",
      "76  is an even number\n",
      "75 is an odd number\n",
      "74  is an even number\n",
      "73 is an odd number\n",
      "72  is an even number\n",
      "71 is an odd number\n",
      "70  is an even number\n"
     ]
    }
   ],
   "source": [
    "count=100\n",
    "\n",
    "while(count>=70):\n",
    "    if(count%2==0): ## remender should 0\n",
    "        print(count,\" is an even number\")\n",
    "    else:\n",
    "        print(count,\"is an odd number\")\n",
    "        \n",
    "    count=count-1"
   ]
  },
  {
   "cell_type": "code",
   "execution_count": 4,
   "metadata": {},
   "outputs": [
    {
     "name": "stdout",
     "output_type": "stream",
     "text": [
      "Happy Diwali shilpa\n",
      "Happy Diwali swapna\n",
      "Happy Diwali alka\n",
      "Happy Diwali 4.2\n"
     ]
    }
   ],
   "source": [
    "# for loop\n",
    "\n",
    "friends=[\"shilpa\",\"swapna\",\"alka\",4.2]\n",
    "for f in friends:\n",
    "    print(\"Happy Diwali\",f)"
   ]
  },
  {
   "cell_type": "code",
   "execution_count": null,
   "metadata": {},
   "outputs": [],
   "source": []
  }
 ],
 "metadata": {
  "kernelspec": {
   "display_name": "Python 3",
   "language": "python",
   "name": "python3"
  },
  "language_info": {
   "codemirror_mode": {
    "name": "ipython",
    "version": 3
   },
   "file_extension": ".py",
   "mimetype": "text/x-python",
   "name": "python",
   "nbconvert_exporter": "python",
   "pygments_lexer": "ipython3",
   "version": "3.7.4"
  }
 },
 "nbformat": 4,
 "nbformat_minor": 2
}
